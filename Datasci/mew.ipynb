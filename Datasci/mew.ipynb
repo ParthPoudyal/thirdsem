{
 "cells": [
  {
   "cell_type": "code",
   "execution_count": 4,
   "metadata": {},
   "outputs": [
    {
     "name": "stdout",
     "output_type": "stream",
     "text": [
      "     Unnamed: 0 school sex  age address famsize Pstatus  Medu  Fedu      Mjob  \\\n",
      "0             0     GP   F   18       U     GT3       A     4     4   at_home   \n",
      "1             1     GP   F   17       U     GT3       T     1     1   at_home   \n",
      "2             2     GP   F   15       U     LE3       T     1     1   at_home   \n",
      "3             3     GP   F   15       U     GT3       T     4     2    health   \n",
      "4             4     GP   F   16       U     GT3       T     3     3     other   \n",
      "..          ...    ...  ..  ...     ...     ...     ...   ...   ...       ...   \n",
      "390         390     MS   M   20       U     LE3       A     2     2  services   \n",
      "391         391     MS   M   17       U     LE3       T     3     1  services   \n",
      "392         392     MS   M   21       R     GT3       T     1     1     other   \n",
      "393         393     MS   M   18       R     LE3       T     3     2  services   \n",
      "394         394     MS   M   19       U     LE3       T     1     1     other   \n",
      "\n",
      "     ... famrel freetime goout  Dalc  Walc  health absences  G1  G2  G3  \n",
      "0    ...      4        3     4     1     1       3        6   5   6   6  \n",
      "1    ...      5        3     3     1     1       3        4   5   5   6  \n",
      "2    ...      4        3     2     2     3       3       10   7   8  10  \n",
      "3    ...      3        2     2     1     1       5        2  15  14  15  \n",
      "4    ...      4        3     2     1     2       5        4   6  10  10  \n",
      "..   ...    ...      ...   ...   ...   ...     ...      ...  ..  ..  ..  \n",
      "390  ...      5        5     4     4     5       4       11   9   9   9  \n",
      "391  ...      2        4     5     3     4       2        3  14  16  16  \n",
      "392  ...      5        5     3     3     3       3        3  10   8   7  \n",
      "393  ...      4        4     1     3     4       5        0  11  12  10  \n",
      "394  ...      3        2     3     3     3       5        5   8   9   9  \n",
      "\n",
      "[395 rows x 34 columns]\n"
     ]
    }
   ],
   "source": [
    "import pandas as pd\n",
    "data_1 = pd.read_csv('mat2.csv')\n",
    "data_2 = pd.read_csv('por2.csv')\n",
    "print (data_1)"
   ]
  },
  {
   "cell_type": "code",
   "execution_count": 12,
   "metadata": {},
   "outputs": [
    {
     "data": {
      "text/plain": [
       "Index(['Unnamed: 0', 'school', 'sex', 'age', 'address', 'famsize', 'Pstatus',\n",
       "       'Medu', 'Fedu', 'Mjob', 'Fjob', 'reason', 'guardian', 'traveltime',\n",
       "       'studytime', 'failures', 'schoolsup', 'famsup', 'paid', 'activities',\n",
       "       'nursery', 'higher', 'internet', 'romantic', 'famrel', 'freetime',\n",
       "       'goout', 'Dalc', 'Walc', 'health', 'absences', 'G1', 'G2', 'G3'],\n",
       "      dtype='object')"
      ]
     },
     "execution_count": 12,
     "metadata": {},
     "output_type": "execute_result"
    }
   ],
   "source": [
    "data_1.columns"
   ]
  },
  {
   "cell_type": "code",
   "execution_count": 24,
   "metadata": {},
   "outputs": [],
   "source": [
    "df = data_1[['G1','G2','G3','absences','failures']]"
   ]
  },
  {
   "cell_type": "code",
   "execution_count": 25,
   "metadata": {},
   "outputs": [
    {
     "data": {
      "text/plain": [
       "0       6\n",
       "1       6\n",
       "2      10\n",
       "3      15\n",
       "4      10\n",
       "       ..\n",
       "390     9\n",
       "391    16\n",
       "392     7\n",
       "393    10\n",
       "394     9\n",
       "Name: G3, Length: 395, dtype: int64"
      ]
     },
     "execution_count": 25,
     "metadata": {},
     "output_type": "execute_result"
    }
   ],
   "source": [
    "x = df.drop(columns='G3')\n",
    "y = df['G3']\n",
    "y"
   ]
  }
 ],
 "metadata": {
  "kernelspec": {
   "display_name": "Python 3",
   "language": "python",
   "name": "python3"
  },
  "language_info": {
   "codemirror_mode": {
    "name": "ipython",
    "version": 3
   },
   "file_extension": ".py",
   "mimetype": "text/x-python",
   "name": "python",
   "nbconvert_exporter": "python",
   "pygments_lexer": "ipython3",
   "version": "3.12.1"
  }
 },
 "nbformat": 4,
 "nbformat_minor": 2
}
