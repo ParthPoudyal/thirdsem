{
 "cells": [
  {
   "cell_type": "code",
   "execution_count": 1,
   "metadata": {},
   "outputs": [
    {
     "data": {
      "text/plain": [
       "7"
      ]
     },
     "execution_count": 1,
     "metadata": {},
     "output_type": "execute_result"
    }
   ],
   "source": [
    "data = [3,4,6,7]\n",
    "x= data.pop()\n",
    "x\n"
   ]
  },
  {
   "cell_type": "code",
   "execution_count": 2,
   "metadata": {},
   "outputs": [
    {
     "data": {
      "text/plain": [
       "[3, 4, 6, 10]"
      ]
     },
     "execution_count": 2,
     "metadata": {},
     "output_type": "execute_result"
    }
   ],
   "source": [
    "data.append(10)\n",
    "data"
   ]
  },
  {
   "cell_type": "code",
   "execution_count": null,
   "metadata": {},
   "outputs": [],
   "source": [
    "data.pop(2)\n",
    "data"
   ]
  },
  {
   "cell_type": "code",
   "execution_count": null,
   "metadata": {},
   "outputs": [],
   "source": [
    "newdata= [10,20,30,40,[5,6,7]]\n",
    "x= newdata[4]\n",
    "x"
   ]
  },
  {
   "cell_type": "code",
   "execution_count": null,
   "metadata": {},
   "outputs": [],
   "source": [
    "x = newdata[4].append(8)\n",
    "newdata"
   ]
  },
  {
   "cell_type": "code",
   "execution_count": null,
   "metadata": {},
   "outputs": [],
   "source": [
    "for i in newdata:\n",
    "    print(i)\n"
   ]
  },
  {
   "cell_type": "code",
   "execution_count": null,
   "metadata": {},
   "outputs": [],
   "source": [
    "data = \"hello\"\n",
    "for i in data: \n",
    "    print(i)"
   ]
  },
  {
   "cell_type": "code",
   "execution_count": null,
   "metadata": {},
   "outputs": [],
   "source": [
    "for i in \"data\": \n",
    "    print (i)"
   ]
  },
  {
   "cell_type": "code",
   "execution_count": null,
   "metadata": {},
   "outputs": [],
   "source": [
    "for i in newdata:\n",
    "    if i == 40:\n",
    "        break\n",
    "    print (i)\n",
    "#elemetns after 40 are not printed\n",
    "\n"
   ]
  },
  {
   "cell_type": "code",
   "execution_count": null,
   "metadata": {},
   "outputs": [],
   "source": [
    "for i in newdata: \n",
    "    if i == 20: \n",
    "        continue\n",
    "    print (i)\n"
   ]
  },
  {
   "cell_type": "code",
   "execution_count": null,
   "metadata": {},
   "outputs": [],
   "source": [
    "for i in range (0,20,2): \n",
    "    print (i)"
   ]
  },
  {
   "cell_type": "code",
   "execution_count": null,
   "metadata": {},
   "outputs": [],
   "source": [
    "for i in range (6): #from 0 to 5 basically indexed \n",
    "    print (i)\n",
    "else: \n",
    "    print (\"done!\")"
   ]
  },
  {
   "cell_type": "code",
   "execution_count": null,
   "metadata": {},
   "outputs": [],
   "source": [
    "for i in range (6): \n",
    "    for j in range (7):\n",
    "        print (i*j)\n"
   ]
  },
  {
   "cell_type": "code",
   "execution_count": null,
   "metadata": {},
   "outputs": [],
   "source": [
    "def main(x,y):\n",
    "    return (x+ y)\n",
    "\n",
    "main(2,5)\n"
   ]
  },
  {
   "cell_type": "code",
   "execution_count": null,
   "metadata": {},
   "outputs": [],
   "source": [
    "x = 10 \n",
    "y = 20 \n",
    "\n",
    "main(x,y)"
   ]
  },
  {
   "cell_type": "code",
   "execution_count": null,
   "metadata": {},
   "outputs": [],
   "source": [
    "data= [4,5,5,6,7]\n",
    "\n",
    "def funct(a, n):\n",
    "    for i in range(n):\n",
    "        print(a[i])\n",
    "\n",
    "funct(data,5)\n"
   ]
  },
  {
   "cell_type": "code",
   "execution_count": null,
   "metadata": {},
   "outputs": [],
   "source": [
    "data = \"mango \"\n",
    "funct(data,3)\n",
    "\n",
    "#parameters vs arguments \n",
    "\"\"\" parameters : varaibles listed inside the parenteses in the function defination \n",
    "arguments : the set of values that are passed while function is called \"\"\""
   ]
  },
  {
   "cell_type": "code",
   "execution_count": null,
   "metadata": {},
   "outputs": [],
   "source": [
    "# functions with aribitary number of argumetns\n",
    "def myfunction(*x): \n",
    "    print (\"the youngest child is \"+ x[-1])\n",
    "data = [\"mat\",\"pat\",\"hat\"]\n",
    "myfunction(*data) #this unpacks the list in sepereate arguments \n"
   ]
  },
  {
   "cell_type": "code",
   "execution_count": null,
   "metadata": {},
   "outputs": [],
   "source": [
    "num = [2,3,4,5]\n",
    "def newfunct(x): \n",
    "    return (x**2)\n",
    "array = list(map(newfunct,num))\n",
    "array\n"
   ]
  },
  {
   "cell_type": "code",
   "execution_count": null,
   "metadata": {},
   "outputs": [],
   "source": [
    "tuple1 = tuple(map(newfunct,num))\n",
    "tuple1"
   ]
  },
  {
   "cell_type": "code",
   "execution_count": null,
   "metadata": {},
   "outputs": [],
   "source": [
    "tuple1.index(25)"
   ]
  },
  {
   "cell_type": "code",
   "execution_count": null,
   "metadata": {},
   "outputs": [],
   "source": [
    "newarray = list(tuple1)\n",
    "newarray"
   ]
  },
  {
   "cell_type": "code",
   "execution_count": null,
   "metadata": {},
   "outputs": [],
   "source": [
    "newarray = [4,5,1,4]\n",
    "newarray.sort()\n",
    "newarray"
   ]
  },
  {
   "cell_type": "code",
   "execution_count": null,
   "metadata": {},
   "outputs": [],
   "source": [
    "y = 10 \n",
    "x = 10 \n",
    "x = y "
   ]
  },
  {
   "cell_type": "code",
   "execution_count": null,
   "metadata": {},
   "outputs": [],
   "source": [
    "list1 = [1,3,4,5,5,6]\n",
    "list2 = list1 \n",
    "list2.append(8888)\n",
    "list1"
   ]
  },
  {
   "cell_type": "code",
   "execution_count": null,
   "metadata": {},
   "outputs": [],
   "source": [
    "list3 = list1.copy()\n",
    "list3.pop(4)\n",
    "print (list3)\n",
    "list1"
   ]
  },
  {
   "cell_type": "code",
   "execution_count": null,
   "metadata": {},
   "outputs": [],
   "source": [
    "thisdict = {\n",
    "    \"brand\":\"Ford\",\n",
    "    \"model\":\"mustang\"\n",
    "}\n",
    "x = dict(name = \"parth\", lastname= \"poudyal\")\n",
    "y = list (x.values()) # return a list of values\n",
    "z=  list (x.keys())  # returns a list of key\n",
    "p = list (x.items()) # returns a list of tuples with key value pair\n",
    "\n",
    "\n",
    "\n",
    "x = [4,0,4,2]\n",
    "x.insert(1,[4,5,6])\n",
    "x\n",
    "\n",
    "\n",
    "\n",
    "\n",
    "\n"
   ]
  },
  {
   "cell_type": "code",
   "execution_count": null,
   "metadata": {},
   "outputs": [],
   "source": [
    "\n",
    "def walk(num): \n",
    "    global walk_x \n",
    "    global walk_y \n",
    "    global walk_z \n",
    "    if (num >= 0):\n",
    "        if (num < 7): \n",
    "            walk_x+= 1\n",
    "        elif (num > 14):\n",
    "            walk_z+=1\n",
    "        else:\n",
    "            walk_y+=1\n",
    "    else:\n",
    "        if (num < 7): \n",
    "            walk_x+=-1\n",
    "        elif (num > 14):\n",
    "            walk_z+=-1\n",
    "        else:\n",
    "            walk_y+=-1\n",
    "    return ([walk_x,walk_y,walk_z])"
   ]
  },
  {
   "cell_type": "code",
   "execution_count": null,
   "metadata": {},
   "outputs": [],
   "source": [
    "import numpy as np\n",
    "import random as rd\n",
    "#setting initial position of the drunk man at 0 : considering walk in positive quad only\n",
    "distance = list()\n",
    "for i in range(1000):\n",
    "   walked = walk(rd.randrange(-21,21))\n",
    "print(walked)\n",
    "\n",
    "\n"
   ]
  },
  {
   "cell_type": "code",
   "execution_count": null,
   "metadata": {},
   "outputs": [],
   "source": []
  }
 ],
 "metadata": {
  "kernelspec": {
   "display_name": "Python 3",
   "language": "python",
   "name": "python3"
  },
  "language_info": {
   "codemirror_mode": {
    "name": "ipython",
    "version": 3
   },
   "file_extension": ".py",
   "mimetype": "text/x-python",
   "name": "python",
   "nbconvert_exporter": "python",
   "pygments_lexer": "ipython3",
   "version": "3.12.1"
  }
 },
 "nbformat": 4,
 "nbformat_minor": 2
}
